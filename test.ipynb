{
 "cells": [
  {
   "cell_type": "code",
   "execution_count": 1,
   "metadata": {},
   "outputs": [],
   "source": [
    "import pandas as pd\n",
    "import librosa\n",
    "import numpy as np\n",
    "import os\n",
    "import torch"
   ]
  },
  {
   "cell_type": "code",
   "execution_count": 3,
   "metadata": {},
   "outputs": [],
   "source": [
    "def pad_or_truncate(cqt, fixed_timesteps):\n",
    "    if cqt.shape[1] > fixed_timesteps:\n",
    "        return cqt[:, :fixed_timesteps]\n",
    "    else:\n",
    "        pad_width = fixed_timesteps - cqt.shape[1]\n",
    "        return np.pad(cqt, ((0, 0), (0, pad_width)), mode='constant')"
   ]
  },
  {
   "cell_type": "code",
   "execution_count": 4,
   "metadata": {},
   "outputs": [],
   "source": [
    "def extract_features(audio_path):\n",
    "    y, sr = librosa.load(audio_path,sr=None)\n",
    "    \n",
    "    mfcc = librosa.feature.mfcc(y=y, sr=sr, n_mfcc=13)\n",
    "    mfcc = pad_or_truncate(mfcc, 150)\n",
    "    \n",
    "    cqt = librosa.cqt(y, sr=sr)\n",
    "    cqt = librosa.amplitude_to_db(abs(cqt))\n",
    "    cqt = pad_or_truncate(cqt, 150)\n",
    "    return mfcc, cqt"
   ]
  },
  {
   "cell_type": "code",
   "execution_count": 5,
   "metadata": {},
   "outputs": [],
   "source": [
    "import torch.nn as nn\n",
    "import torch.nn.functional as F\n",
    "\n",
    "class Res2NetBlock(nn.Module):\n",
    "    def __init__(self, in_channels, out_channels, scales=4):\n",
    "        super(Res2NetBlock, self).__init__()\n",
    "        self.scales = scales\n",
    "\n",
    "        # First 1x1 conv layer to reduce the input channels\n",
    "        self.conv1 = nn.Conv2d(in_channels, out_channels, kernel_size=1, bias=False)\n",
    "        self.bn1 = nn.BatchNorm2d(out_channels)\n",
    "\n",
    "        # Convolutional layers for each scale\n",
    "        self.convs = nn.ModuleList([\n",
    "            nn.Conv2d(out_channels // scales, out_channels // scales, kernel_size=3, padding=1, bias=False)\n",
    "            for _ in range(scales - 1)\n",
    "        ])\n",
    "        self.bns = nn.ModuleList([nn.BatchNorm2d(out_channels // scales) for _ in range(scales - 1)])\n",
    "\n",
    "        # Last 1x1 conv layer to recombine the outputs\n",
    "        self.conv3 = nn.Conv2d(out_channels // 2, out_channels, kernel_size=1, bias=False)\n",
    "        self.bn3 = nn.BatchNorm2d(out_channels)\n",
    "\n",
    "        # ReLU activation\n",
    "        self.relu = nn.ReLU(inplace=True)\n",
    "        self.pool = nn.MaxPool2d(2, 2)\n",
    "\n",
    "    def forward(self, x):\n",
    "        # Initial 1x1 convolution to transform input channels\n",
    "        out = self.relu(self.bn1(self.conv1(x)))\n",
    "\n",
    "        # Split the feature map into several scales\n",
    "        xs = torch.split(out, out.size(1) // self.scales, dim=1)\n",
    "\n",
    "        # Process each scale independently\n",
    "        for i in range(1, self.scales):\n",
    "            if i == 1:\n",
    "                output = xs[i]\n",
    "            else:\n",
    "                output = output + xs[i]\n",
    "            output = self.relu(self.bns[i-1](self.convs[i-1](output)))\n",
    "\n",
    "        # Concatenate all the scales back together\n",
    "        out = torch.cat((xs[0], output), dim=1)\n",
    "\n",
    "        # Final 1x1 convolution to recombine the features\n",
    "        out = self.relu(self.bn3(self.conv3(out)))\n",
    "\n",
    "        # Apply max pooling to reduce the spatial size\n",
    "        out = self.pool(out)\n",
    "        return out\n",
    "\n",
    "class AudioSpoofingRes2Net(nn.Module):\n",
    "    def __init__(self):\n",
    "        super(AudioSpoofingRes2Net, self).__init__()\n",
    "\n",
    "        self.mfcc_res2net = Res2NetBlock(in_channels=1, out_channels=32, scales=4)\n",
    "\n",
    "        self.cqt_res2net = Res2NetBlock(in_channels=1, out_channels=32, scales=4)\n",
    "\n",
    "        self.fc1 = nn.Linear(115200,4096)\n",
    "        self.fc2 = nn.Linear(4096, 128)\n",
    "        self.fc3 = nn.Linear(128, 1)\n",
    "\n",
    "    def forward(self, mfcc, cqt):\n",
    "        # Forward pass for MFCC features\n",
    "        mfcc_output = self.mfcc_res2net(mfcc)\n",
    "\n",
    "        # Forward pass for CQT features\n",
    "        cqt_output = self.cqt_res2net(cqt)\n",
    "\n",
    "        # Flatten the outputs\n",
    "        mfcc_output = mfcc_output.view(mfcc_output.size(0), -1)\n",
    "        cqt_output = cqt_output.view(cqt_output.size(0), -1)\n",
    "\n",
    "        # Concatenate the flattened outputs\n",
    "        combined = torch.cat((mfcc_output, cqt_output), dim=1)\n",
    "\n",
    "        # Pass through fully connected layers\n",
    "        x = F.relu(self.fc1(combined))\n",
    "        x = F.relu(self.fc2(x))\n",
    "        x = torch.sigmoid(self.fc3(x))  # Sigmoid applied here for binary classification\n",
    "\n",
    "        return x\n"
   ]
  },
  {
   "cell_type": "code",
   "execution_count": 6,
   "metadata": {},
   "outputs": [
    {
     "name": "stderr",
     "output_type": "stream",
     "text": [
      "C:\\Users\\RK\\AppData\\Local\\Temp\\ipykernel_6904\\2569318595.py:3: FutureWarning: You are using `torch.load` with `weights_only=False` (the current default value), which uses the default pickle module implicitly. It is possible to construct malicious pickle data which will execute arbitrary code during unpickling (See https://github.com/pytorch/pytorch/blob/main/SECURITY.md#untrusted-models for more details). In a future release, the default value for `weights_only` will be flipped to `True`. This limits the functions that could be executed during unpickling. Arbitrary objects will no longer be allowed to be loaded via this mode unless they are explicitly allowlisted by the user via `torch.serialization.add_safe_globals`. We recommend you start setting `weights_only=True` for any use case where you don't have full control of the loaded file. Please open an issue on GitHub for any issues related to this experimental feature.\n",
      "  model.load_state_dict(torch.load('25epoch.pth', map_location=device))\n"
     ]
    },
    {
     "name": "stdout",
     "output_type": "stream",
     "text": [
      "cuda\n"
     ]
    }
   ],
   "source": [
    "device = torch.device('cuda' if torch.cuda.is_available() else 'cpu')\n",
    "model = AudioSpoofingRes2Net().to(device)\n",
    "model.load_state_dict(torch.load('25epoch.pth', map_location=device))\n",
    "model.eval()\n",
    "print(device)"
   ]
  },
  {
   "cell_type": "code",
   "execution_count": 9,
   "metadata": {},
   "outputs": [
    {
     "name": "stdout",
     "output_type": "stream",
     "text": [
      "The audio file is classified as: Spoof\n"
     ]
    }
   ],
   "source": [
    "def predict_single(audio_path):\n",
    "    mfcc, cqt = extract_features(audio_path)\n",
    "    \n",
    "    mfcc = np.expand_dims(mfcc, axis=0)  \n",
    "    mfcc = np.expand_dims(mfcc, axis=1) \n",
    "    \n",
    "    cqt = np.expand_dims(cqt, axis=0)    \n",
    "    cqt = np.expand_dims(cqt, axis=1)   \n",
    "    \n",
    "    mfcc_tensor = torch.tensor(mfcc, dtype=torch.float32).to(device)\n",
    "    cqt_tensor = torch.tensor(cqt, dtype=torch.float32).to(device)\n",
    "    \n",
    "    with torch.no_grad():\n",
    "        output = model(mfcc_tensor, cqt_tensor)\n",
    "        prediction = (output.squeeze() >= 0.5).float().item()  # 1 for spoof, 0 for bonafide\n",
    "    \n",
    "    return \"Spoof\" if prediction == 1 else \"Bonafide\"\n",
    "\n",
    "# Test on a single audio file\n",
    "audio_path = 'fake.mp3'\n",
    "result = predict_single(audio_path)\n",
    "print(f\"The audio file is classified as: {result}\")"
   ]
  }
 ],
 "metadata": {
  "kernelspec": {
   "display_name": "Python 3",
   "language": "python",
   "name": "python3"
  },
  "language_info": {
   "codemirror_mode": {
    "name": "ipython",
    "version": 3
   },
   "file_extension": ".py",
   "mimetype": "text/x-python",
   "name": "python",
   "nbconvert_exporter": "python",
   "pygments_lexer": "ipython3",
   "version": "3.12.6"
  }
 },
 "nbformat": 4,
 "nbformat_minor": 2
}
